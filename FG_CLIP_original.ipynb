{
 "cells": [
  {
   "cell_type": "code",
   "execution_count": 2,
   "id": "22fca1a0",
   "metadata": {},
   "outputs": [],
   "source": [
    "%%capture\n",
    "# Install required packages\n",
    "!pip install -U transformers faiss-gpu torch Pillay tqdm ipywidgets\n",
    "!pip install -U git+https://github.com/360CVGroup/FG-CLIP.git\n"
   ]
  },
  {
   "cell_type": "markdown",
   "id": "dce555db",
   "metadata": {},
   "source": [
    "## Initializations"
   ]
  },
  {
   "cell_type": "code",
   "execution_count": null,
   "id": "104b897e",
   "metadata": {},
   "outputs": [
    {
     "name": "stdout",
     "output_type": "stream",
     "text": [
      "WARNING:tensorflow:From c:\\Users\\elmak\\AppData\\Local\\Programs\\Python\\Python311\\Lib\\site-packages\\keras\\src\\losses.py:2976: The name tf.losses.sparse_softmax_cross_entropy is deprecated. Please use tf.compat.v1.losses.sparse_softmax_cross_entropy instead.\n",
      "\n"
     ]
    },
    {
     "name": "stderr",
     "output_type": "stream",
     "text": [
      "W0615 23:25:17.400000 18612 site-packages\\torch\\distributed\\elastic\\multiprocessing\\redirects.py:29] NOTE: Redirects are currently not supported in Windows or MacOs.\n",
      "Using a slow image processor as `use_fast` is unset and a slow processor was saved with this model. `use_fast=True` will be the default behavior in v4.52, even if the model was saved with a slow processor. This will result in minor differences in outputs. You'll still be able to use a slow processor with `use_fast=False`.\n"
     ]
    }
   ],
   "source": [
    "import torch\n",
    "import faiss\n",
    "import numpy as np\n",
    "from pathlib import Path\n",
    "from PIL import Image\n",
    "from tqdm.auto import tqdm\n",
    "from transformers import AutoProcessor, AutoModel\n",
    "import matplotlib.pyplot as plt\n",
    "\n",
    "# Configuration\n",
    "IMAGE_ROOT = Path(\"debbiedebrauwer/Spanje\")\n",
    "MODEL_NAME = \"qihoo360/fg-clip-large\"\n",
    "DEVICE = \"cuda\" if torch.cuda.is_available() else \"cpu\"\n",
    "BATCH_SIZE = 32\n",
    "INDEX_CONFIG = {\n",
    "    \"nlist\": 256,          # Number of IVF clusters\n",
    "    \"nprobe\": 16,          # Number of clusters to search\n",
    "    \"metric\": faiss.METRIC_INNER_PRODUCT\n",
    "}\n",
    "\n",
    "# Initialize FG-CLIP model\n",
    "processor = AutoProcessor.from_pretrained(MODEL_NAME)\n",
    "model = AutoModel.from_pretrained(MODEL_NAME).to(DEVICE).eval()"
   ]
  },
  {
   "cell_type": "markdown",
   "id": "9c716d8b",
   "metadata": {},
   "source": [
    "## Vector Embedder (turns images into vector embeddings)"
   ]
  },
  {
   "cell_type": "code",
   "execution_count": 2,
   "id": "9baeb00d",
   "metadata": {},
   "outputs": [
    {
     "data": {
      "application/vnd.jupyter.widget-view+json": {
       "model_id": "454fd1743ad6428e87b2bfa069b5659d",
       "version_major": 2,
       "version_minor": 0
      },
      "text/plain": [
       "  0%|          | 0/30 [00:00<?, ?it/s]"
      ]
     },
     "metadata": {},
     "output_type": "display_data"
    }
   ],
   "source": [
    "def load_image_paths():\n",
    "    \"\"\"Load all images with location metadata\"\"\"\n",
    "    locations = []\n",
    "    image_paths = []\n",
    "    \n",
    "    for loc_dir in IMAGE_ROOT.iterdir():\n",
    "        if loc_dir.is_dir():\n",
    "            loc_id = loc_dir.name\n",
    "            for img_path in loc_dir.glob(\"*.*\"):\n",
    "                if img_path.suffix.lower() in [\".png\", \".jpg\", \".jpeg\"]:\n",
    "                    image_paths.append(img_path)\n",
    "                    locations.append(loc_id)\n",
    "    \n",
    "    return image_paths, locations\n",
    "\n",
    "\n",
    "def generate_embeddings(image_paths, batch_size=BATCH_SIZE):\n",
    "    \"\"\"Generate FG-CLIP embeddings with batch processing\"\"\"\n",
    "    embeddings = []\n",
    "    \n",
    "    for i in tqdm(range(0, len(image_paths), batch_size)):\n",
    "        batch_paths = image_paths[i:i+batch_size]\n",
    "        images = [Image.open(p).convert(\"RGB\") for p in batch_paths]\n",
    "        \n",
    "        with torch.no_grad():\n",
    "            inputs = processor(images=images, return_tensors=\"pt\", padding=True)\n",
    "            inputs = {k: v.to(DEVICE) for k, v in inputs.items()}\n",
    "            features = model.get_image_features(**inputs)\n",
    "            features = torch.nn.functional.normalize(features, dim=-1)\n",
    "            embeddings.append(features.cpu().numpy())\n",
    "    \n",
    "    return np.concatenate(embeddings)\n",
    "\n",
    "# Load and process all images\n",
    "image_paths, location_ids = load_image_paths()\n",
    "embeddings = generate_embeddings(image_paths)\n"
   ]
  },
  {
   "cell_type": "markdown",
   "id": "11a625f6",
   "metadata": {},
   "source": [
    "## Store embedding in database (only run once when storing vector embedding)"
   ]
  },
  {
   "cell_type": "code",
   "execution_count": 3,
   "id": "f04f9eb9",
   "metadata": {},
   "outputs": [
    {
     "name": "stdout",
     "output_type": "stream",
     "text": [
      "Created new collection: film_locations\n",
      "Starting upsert of 954 points...\n",
      "Progress: 50/954 (5.2%)\n",
      "Progress: 100/954 (10.5%)\n",
      "Progress: 150/954 (15.7%)\n",
      "Progress: 200/954 (21.0%)\n",
      "Progress: 250/954 (26.2%)\n",
      "Progress: 300/954 (31.4%)\n",
      "Progress: 350/954 (36.7%)\n",
      "Progress: 400/954 (41.9%)\n",
      "Progress: 450/954 (47.2%)\n",
      "Progress: 500/954 (52.4%)\n",
      "Progress: 550/954 (57.7%)\n",
      "Progress: 600/954 (62.9%)\n",
      "Progress: 650/954 (68.1%)\n",
      "Progress: 700/954 (73.4%)\n",
      "Progress: 750/954 (78.6%)\n",
      "Progress: 800/954 (83.9%)\n",
      "Progress: 850/954 (89.1%)\n",
      "Progress: 900/954 (94.3%)\n",
      "Progress: 950/954 (99.6%)\n",
      "Progress: 954/954 (100.0%)\n",
      "Completed storing 954 embeddings in film_locations\n",
      "Collection now contains count=954 points\n"
     ]
    }
   ],
   "source": [
    "from qdrant_client import QdrantClient, models\n",
    "import hashlib\n",
    "import numpy as np\n",
    "from datetime import datetime  # ADD THIS IMPORT\n",
    "\n",
    "\n",
    "def store_embeddings(embeddings: np.ndarray, image_paths: list, location_ids: list):\n",
    "    \"\"\"Store embeddings in Qdrant while preserving existing data\"\"\"\n",
    "    \n",
    "    # Validate input shapes\n",
    "    assert len(embeddings) == len(image_paths) == len(location_ids), \\\n",
    "        \"Mismatched input array lengths\"\n",
    "    assert embeddings.ndim == 2, \"Embeddings must be 2D array\"\n",
    "\n",
    "    # Initialize Qdrant client\n",
    "    client = QdrantClient(url=\"http://localhost:6333\")\n",
    "\n",
    "    # Collection parameters\n",
    "    COLLECTION_NAME = \"film_locations\"\n",
    "    VECTOR_SIZE = embeddings.shape[1]\n",
    "\n",
    "    # Create collection only if it doesn't exist\n",
    "    if not client.collection_exists(COLLECTION_NAME):\n",
    "        client.create_collection(\n",
    "            collection_name=COLLECTION_NAME,\n",
    "            vectors_config=models.VectorParams(\n",
    "                size=VECTOR_SIZE,\n",
    "                distance=models.Distance.COSINE,\n",
    "                on_disk=True\n",
    "            )\n",
    "        )\n",
    "        print(f\"Created new collection: {COLLECTION_NAME}\")\n",
    "    else:\n",
    "        # Verify vector size matches existing collection\n",
    "        collection_info = client.get_collection(COLLECTION_NAME)\n",
    "        existing_size = collection_info.config.params.vectors.size\n",
    "        if existing_size != VECTOR_SIZE:\n",
    "            raise ValueError(\n",
    "                f\"Existing vector size ({existing_size}) \"\n",
    "                f\"doesn't match new embeddings ({VECTOR_SIZE})\"\n",
    "            )\n",
    "\n",
    "    # Prepare points with conflict resolution\n",
    "    def create_points():\n",
    "        for path, loc_id, vector in zip(image_paths, location_ids, embeddings):\n",
    "            yield models.PointStruct(\n",
    "                id=hashlib.md5(str(path).encode()).hexdigest(),\n",
    "                vector=vector.tolist(),\n",
    "                payload={\n",
    "                    \"image_path\": str(path),\n",
    "                    \"location_id\": loc_id,\n",
    "                    \"updated_at\": datetime.now().isoformat()\n",
    "                }\n",
    "            )\n",
    "\n",
    "    # Upsert in batches with progress tracking\n",
    "    BATCH_SIZE = 50\n",
    "    total_points = len(embeddings)\n",
    "    uploaded = 0\n",
    "    \n",
    "    print(f\"Starting upsert of {total_points} points...\")\n",
    "    for batch_points in batch_generator(create_points(), BATCH_SIZE):\n",
    "        client.upsert(\n",
    "            collection_name=COLLECTION_NAME,\n",
    "            points=batch_points,\n",
    "            wait=True\n",
    "        )\n",
    "        uploaded += len(batch_points)\n",
    "        print(f\"Progress: {uploaded}/{total_points} ({uploaded/total_points:.1%})\")\n",
    "\n",
    "    print(f\"Completed storing {total_points} embeddings in {COLLECTION_NAME}\")\n",
    "    print(f\"Collection now contains {client.count(COLLECTION_NAME)} points\")\n",
    "\n",
    "def batch_generator(iterable, batch_size):\n",
    "    \"\"\"Helper to batch items from generator\"\"\"\n",
    "    batch = []\n",
    "    for item in iterable:   \n",
    "        batch.append(item)\n",
    "        if len(batch) >= batch_size:\n",
    "            yield batch\n",
    "            batch = []\n",
    "    if batch:\n",
    "        yield batch\n",
    "\n",
    "store_embeddings(embeddings, image_paths, location_ids)\n"
   ]
  },
  {
   "cell_type": "markdown",
   "id": "0e2e703f",
   "metadata": {},
   "source": [
    "## Similarity Search (run this for the similarity search below to work)"
   ]
  },
  {
   "cell_type": "code",
   "execution_count": 2,
   "id": "cfc4cae9",
   "metadata": {},
   "outputs": [],
   "source": [
    "import matplotlib.pyplot as plt\n",
    "from qdrant_client import QdrantClient, models\n",
    "from PIL import Image\n",
    "\n",
    "# Collection parameters\n",
    "COLLECTION_NAME = \"film_locations\"\n",
    "\n",
    "def text_search(query: str, top_k: int = 5):\n",
    "    \"\"\"Search using text query.\"\"\"\n",
    "    with torch.no_grad():\n",
    "        text_inputs = processor(text=query, return_tensors=\"pt\", padding=True)\n",
    "        text_inputs = {k: v.to(DEVICE) for k, v in text_inputs.items()}\n",
    "        text_features = model.get_text_features(**text_inputs)\n",
    "        query_embedding = torch.nn.functional.normalize(text_features, dim=-1)\n",
    "    \n",
    "    results = client.search(\n",
    "        collection_name=COLLECTION_NAME,\n",
    "        query_vector=query_embedding[0].cpu().numpy().tolist(),\n",
    "        limit=top_k\n",
    "    )\n",
    "    \n",
    "    return [{\n",
    "        \"score\": hit.score,\n",
    "        \"image_path\": hit.payload[\"image_path\"],\n",
    "        \"location\": hit.payload[\"location_id\"]\n",
    "    } for hit in results]\n",
    "\n",
    "def plot_search_results(results, query, query_type=\"Text\"):\n",
    "    n = len(results)\n",
    "    fig, axs = plt.subplots(1, n, figsize=(4*n, 4))\n",
    "    if n == 1:\n",
    "        axs = [axs]\n",
    "    for ax, res in zip(axs, results):\n",
    "        img = Image.open(res[\"image_path\"])\n",
    "        ax.imshow(img)\n",
    "        ax.axis('off')\n",
    "        ax.set_title(f\"Loc: {res['location']}\\nScore: {res['score']:.2f}\")\n",
    "    plt.show()\n",
    "\n",
    "def image_search(image_path: str, top_k: int = 5):\n",
    "    \"\"\"Search using image query.\"\"\"\n",
    "    image = Image.open(image_path).convert(\"RGB\")\n",
    "    with torch.no_grad():\n",
    "        image_inputs = processor(images=image, return_tensors=\"pt\")\n",
    "        image_inputs = {k: v.to(DEVICE) for k, v in image_inputs.items()}\n",
    "        image_features = model.get_image_features(**image_inputs)\n",
    "        query_embedding = torch.nn.functional.normalize(image_features, dim=-1)\n",
    "    \n",
    "    results = client.search(\n",
    "        collection_name=COLLECTION_NAME,\n",
    "        query_vector=query_embedding[0].cpu().numpy().tolist(),\n",
    "        limit=top_k\n",
    "    )\n",
    "    \n",
    "    return [{\n",
    "        \"score\": hit.score,\n",
    "        \"image_path\": hit.payload[\"image_path\"],\n",
    "        \"location\": hit.payload[\"location_id\"]\n",
    "    } for hit in results]    \n",
    "\n",
    "# QDRANT path\n",
    "QDRANT_PATH = \"./qdrant_data\"\n",
    "\n",
    "# Initialize Qdrant client in local (on-disk) mode\n",
    "client = QdrantClient(path=QDRANT_PATH)"
   ]
  },
  {
   "cell_type": "markdown",
   "id": "0442c33c",
   "metadata": {},
   "source": [
    "## Similarity search query (run above for this to work)"
   ]
  },
  {
   "cell_type": "code",
   "execution_count": null,
   "id": "9eb63f87",
   "metadata": {},
   "outputs": [],
   "source": [
    "query = \"outside nature look with mountains\"\n",
    "text_results = text_search(query, top_k=5)\n",
    "plot_search_results(text_results, query, query_type=\"Text\")\n",
    "\n",
    "#image_results = image_search(\"path/to/your/query_image.jpg\", top_k=5)\n",
    "#for res in image_results:\n",
    "#    print(f\"{res['score']:.3f} | {res['location']}: {res['image_path']}\")"
   ]
  },
  {
   "cell_type": "code",
   "execution_count": 4,
   "id": "cb49dc5a",
   "metadata": {},
   "outputs": [
    {
     "name": "stdout",
     "output_type": "stream",
     "text": [
      "Embeddings saved to fgclip_embeddings.npy\n"
     ]
    },
    {
     "data": {
      "text/plain": [
       "\"\\nsave_faiss_index(index, 'faiss_index.index')\\nsave_metadata(image_paths, location_ids, 'metadata.pkl')\\n\""
      ]
     },
     "execution_count": 4,
     "metadata": {},
     "output_type": "execute_result"
    }
   ],
   "source": [
    "\n",
    "save_embeddings(embeddings, 'fgclip_embeddings.npy')\n",
    "'''\n",
    "save_faiss_index(index, 'faiss_index.index')\n",
    "save_metadata(image_paths, location_ids, 'metadata.pkl')\n",
    "'''"
   ]
  },
  {
   "cell_type": "code",
   "execution_count": 3,
   "id": "6adf9e80",
   "metadata": {},
   "outputs": [],
   "source": [
    "import os\n",
    "import pickle\n",
    "\n",
    "def load_embeddings(filename='fgclip_embeddings.npy'):\n",
    "    if os.path.exists(filename):\n",
    "        embeddings = np.load(filename)\n",
    "        print(f\"Embeddings loaded from {filename}, shape: {embeddings.shape}\")\n",
    "        return embeddings\n",
    "    else:\n",
    "        print(f\"File {filename} not found.\")\n",
    "        return None\n",
    "    \n",
    "def load_faiss_index(filename='faiss_index.index'):\n",
    "    if os.path.exists(filename):\n",
    "        index = faiss.read_index(filename)\n",
    "        print(f\"FAISS index loaded from {filename}\")\n",
    "        return index\n",
    "    else:\n",
    "        print(f\"File {filename} not found.\")\n",
    "        return None\n",
    "    \n",
    "def load_metadata(filename='metadata.pkl'):\n",
    "    if os.path.exists(filename):\n",
    "        with open(filename, 'rb') as f:\n",
    "            data = pickle.load(f)\n",
    "        print(f\"Metadata loaded from {filename}\")\n",
    "        return data['image_paths'], data['location_ids']\n",
    "    else:\n",
    "        print(f\"File {filename} not found.\")\n",
    "        return None, None"
   ]
  },
  {
   "cell_type": "code",
   "execution_count": 4,
   "id": "57081c66",
   "metadata": {},
   "outputs": [
    {
     "name": "stdout",
     "output_type": "stream",
     "text": [
      "Embeddings loaded from fgclip_embeddings.npy, shape: (823, 768)\n"
     ]
    },
    {
     "data": {
      "text/plain": [
       "\"\\nindex = load_faiss_index('faiss_index.index')\\nimage_paths, location_ids = load_metadata('metadata.pkl')\\n\\n# Initiate retrieval system\\nretrieval_system = LocationRetrievalSystem(index, image_paths, location_ids)\\n\""
      ]
     },
     "execution_count": 4,
     "metadata": {},
     "output_type": "execute_result"
    }
   ],
   "source": [
    "# load saved data\n",
    "embeddings = load_embeddings('fgclip_embeddings.npy')\n",
    "'''\n",
    "index = load_faiss_index('faiss_index.index')\n",
    "image_paths, location_ids = load_metadata('metadata.pkl')\n",
    "\n",
    "# Initiate retrieval system\n",
    "retrieval_system = LocationRetrievalSystem(index, image_paths, location_ids)\n",
    "'''"
   ]
  }
 ],
 "metadata": {
  "kernelspec": {
   "display_name": "Python 3",
   "language": "python",
   "name": "python3"
  },
  "language_info": {
   "codemirror_mode": {
    "name": "ipython",
    "version": 3
   },
   "file_extension": ".py",
   "mimetype": "text/x-python",
   "name": "python",
   "nbconvert_exporter": "python",
   "pygments_lexer": "ipython3",
   "version": "3.11.5"
  }
 },
 "nbformat": 4,
 "nbformat_minor": 5
}
